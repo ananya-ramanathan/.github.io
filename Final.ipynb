{
 "cells": [
  {
   "cell_type": "markdown",
   "metadata": {},
   "source": [
    "For my final project, I will be working with a data set found on Kaggle that contains data on the top 300 universities of the world. It contains several categories of data, including world ranking, country ranking, region, and acceptance rates."
   ]
  },
  {
   "cell_type": "code",
   "execution_count": 20,
   "metadata": {},
   "outputs": [
    {
     "data": {
      "text/html": [
       "<div>\n",
       "<style scoped>\n",
       "    .dataframe tbody tr th:only-of-type {\n",
       "        vertical-align: middle;\n",
       "    }\n",
       "\n",
       "    .dataframe tbody tr th {\n",
       "        vertical-align: top;\n",
       "    }\n",
       "\n",
       "    .dataframe thead th {\n",
       "        text-align: right;\n",
       "    }\n",
       "</style>\n",
       "<table border=\"1\" class=\"dataframe\">\n",
       "  <thead>\n",
       "    <tr style=\"text-align: right;\">\n",
       "      <th></th>\n",
       "      <th>name</th>\n",
       "      <th>world_ranking</th>\n",
       "      <th>region_ranking</th>\n",
       "      <th>country_ranking</th>\n",
       "      <th>region</th>\n",
       "      <th>country</th>\n",
       "      <th>city\\state</th>\n",
       "      <th>acceptance_rate</th>\n",
       "      <th>publication</th>\n",
       "      <th>website</th>\n",
       "      <th>phone_no</th>\n",
       "      <th>address</th>\n",
       "    </tr>\n",
       "  </thead>\n",
       "  <tbody>\n",
       "    <tr>\n",
       "      <th>0</th>\n",
       "      <td>Aarhus University</td>\n",
       "      <td>#150 of 14,131</td>\n",
       "      <td>#44 of 2,785</td>\n",
       "      <td>#2 of 27</td>\n",
       "      <td>Europe</td>\n",
       "      <td>Italy</td>\n",
       "      <td>Veneto</td>\n",
       "      <td>15%</td>\n",
       "      <td>89,633</td>\n",
       "      <td>www.au.dk</td>\n",
       "      <td>+45 8942 1111</td>\n",
       "      <td>Nordre Ringgade 1\\n Aarhus, Central Denmark Re...</td>\n",
       "    </tr>\n",
       "    <tr>\n",
       "      <th>1</th>\n",
       "      <td>Arizona State University - Tempe</td>\n",
       "      <td>#61 of 14,131</td>\n",
       "      <td>#48 of 2,597</td>\n",
       "      <td>#45 of 2,496</td>\n",
       "      <td>Europe</td>\n",
       "      <td>Spain</td>\n",
       "      <td>Valencia</td>\n",
       "      <td>NaN</td>\n",
       "      <td>99,086</td>\n",
       "      <td>www.asu.edu</td>\n",
       "      <td>8552785080</td>\n",
       "      <td>University Drive and Mill Avenue\\n Tempe, Ariz...</td>\n",
       "    </tr>\n",
       "    <tr>\n",
       "      <th>2</th>\n",
       "      <td>Auburn University</td>\n",
       "      <td>NaN</td>\n",
       "      <td>NaN</td>\n",
       "      <td>NaN</td>\n",
       "      <td>North America</td>\n",
       "      <td>United States</td>\n",
       "      <td>Wisconsin</td>\n",
       "      <td>57%</td>\n",
       "      <td>36,231</td>\n",
       "      <td>auburn.edu</td>\n",
       "      <td>3348444000</td>\n",
       "      <td>Samford Hall\\n Auburn, Alabama, 36849 \\nUnited...</td>\n",
       "    </tr>\n",
       "    <tr>\n",
       "      <th>3</th>\n",
       "      <td>Australian National University</td>\n",
       "      <td>#88 of 14,131</td>\n",
       "      <td>#5 of 59</td>\n",
       "      <td>#5 of 40</td>\n",
       "      <td>North America</td>\n",
       "      <td>Canada</td>\n",
       "      <td>Ontario</td>\n",
       "      <td>86%</td>\n",
       "      <td>97,754</td>\n",
       "      <td>www.anu.edu.au</td>\n",
       "      <td>+61 (0)2 6125 5111</td>\n",
       "      <td>Ellery Crescent, Acton\\n Canberra, Australian ...</td>\n",
       "    </tr>\n",
       "    <tr>\n",
       "      <th>4</th>\n",
       "      <td>Autonomous University of Barcelona</td>\n",
       "      <td>NaN</td>\n",
       "      <td>NaN</td>\n",
       "      <td>NaN</td>\n",
       "      <td>Europe</td>\n",
       "      <td>Italy</td>\n",
       "      <td>Emilia-Romagna</td>\n",
       "      <td>11%</td>\n",
       "      <td>74,922</td>\n",
       "      <td>www.uab.cat</td>\n",
       "      <td>+34 935812222</td>\n",
       "      <td>Campus de Bellaterra, Edificio A\\n Cerdanyola ...</td>\n",
       "    </tr>\n",
       "    <tr>\n",
       "      <th>...</th>\n",
       "      <td>...</td>\n",
       "      <td>...</td>\n",
       "      <td>...</td>\n",
       "      <td>...</td>\n",
       "      <td>...</td>\n",
       "      <td>...</td>\n",
       "      <td>...</td>\n",
       "      <td>...</td>\n",
       "      <td>...</td>\n",
       "      <td>...</td>\n",
       "      <td>...</td>\n",
       "      <td>...</td>\n",
       "    </tr>\n",
       "    <tr>\n",
       "      <th>295</th>\n",
       "      <td>Xi'an Jiaotong University</td>\n",
       "      <td>NaN</td>\n",
       "      <td>NaN</td>\n",
       "      <td>NaN</td>\n",
       "      <td>North America</td>\n",
       "      <td>United States</td>\n",
       "      <td>Connecticut</td>\n",
       "      <td>7%</td>\n",
       "      <td>96,097</td>\n",
       "      <td>www.xjtu.edu.cn</td>\n",
       "      <td>+86 (29) 266 8830</td>\n",
       "      <td>28 Xianning Road\\n Xi'an, Shaanxi, 710049 \\nChina</td>\n",
       "    </tr>\n",
       "    <tr>\n",
       "      <th>296</th>\n",
       "      <td>Yale University</td>\n",
       "      <td>#11 of 14,131</td>\n",
       "      <td>#9 of 2,597</td>\n",
       "      <td>#9 of 2,496</td>\n",
       "      <td>Asia</td>\n",
       "      <td>China</td>\n",
       "      <td>Xi'an</td>\n",
       "      <td>NaN</td>\n",
       "      <td>198,095</td>\n",
       "      <td>www.yale.edu</td>\n",
       "      <td>2034324771</td>\n",
       "      <td>Woodbridge Hall\\n New Haven, Connecticut, 0652...</td>\n",
       "    </tr>\n",
       "    <tr>\n",
       "      <th>297</th>\n",
       "      <td>Yonsei University</td>\n",
       "      <td>NaN</td>\n",
       "      <td>NaN</td>\n",
       "      <td>NaN</td>\n",
       "      <td>North America</td>\n",
       "      <td>United States</td>\n",
       "      <td>Washington</td>\n",
       "      <td>56%</td>\n",
       "      <td>95,497</td>\n",
       "      <td>www.yonsei.ac.kr</td>\n",
       "      <td>+82 (2) 2123 2114</td>\n",
       "      <td>134 Sinchon-dong, Seodaemun-gu\\n Seoul, Seoul,...</td>\n",
       "    </tr>\n",
       "    <tr>\n",
       "      <th>298</th>\n",
       "      <td>York University</td>\n",
       "      <td>NaN</td>\n",
       "      <td>NaN</td>\n",
       "      <td>NaN</td>\n",
       "      <td>Oceania</td>\n",
       "      <td>Australia</td>\n",
       "      <td>Canberra</td>\n",
       "      <td>33%</td>\n",
       "      <td>41,257</td>\n",
       "      <td>yorku.ca</td>\n",
       "      <td>+1 (416) 736 5002</td>\n",
       "      <td>4700 Keele Street\\n Toronto, Ontario, M3J 1P3 ...</td>\n",
       "    </tr>\n",
       "    <tr>\n",
       "      <th>299</th>\n",
       "      <td>Zhejiang University</td>\n",
       "      <td>#109 of 14,131</td>\n",
       "      <td>#7 of 5,830</td>\n",
       "      <td>#3 of 960</td>\n",
       "      <td>North America</td>\n",
       "      <td>United States</td>\n",
       "      <td>Alabama</td>\n",
       "      <td>52%</td>\n",
       "      <td>176,136</td>\n",
       "      <td>www.zju.edu.cn</td>\n",
       "      <td>+86 (571) 8795 1020</td>\n",
       "      <td>38 Zheda Road, Xihu\\n Hangzhou, Zhejiang, 3100...</td>\n",
       "    </tr>\n",
       "  </tbody>\n",
       "</table>\n",
       "<p>300 rows × 12 columns</p>\n",
       "</div>"
      ],
      "text/plain": [
       "                                   name   world_ranking region_ranking  \\\n",
       "0                     Aarhus University  #150 of 14,131   #44 of 2,785   \n",
       "1      Arizona State University - Tempe   #61 of 14,131   #48 of 2,597   \n",
       "2                     Auburn University             NaN            NaN   \n",
       "3        Australian National University   #88 of 14,131       #5 of 59   \n",
       "4    Autonomous University of Barcelona             NaN            NaN   \n",
       "..                                  ...             ...            ...   \n",
       "295           Xi'an Jiaotong University             NaN            NaN   \n",
       "296                     Yale University   #11 of 14,131    #9 of 2,597   \n",
       "297                   Yonsei University             NaN            NaN   \n",
       "298                     York University             NaN            NaN   \n",
       "299                 Zhejiang University  #109 of 14,131    #7 of 5,830   \n",
       "\n",
       "    country_ranking         region        country      city\\state  \\\n",
       "0          #2 of 27         Europe          Italy          Veneto   \n",
       "1      #45 of 2,496         Europe          Spain        Valencia   \n",
       "2               NaN  North America  United States       Wisconsin   \n",
       "3          #5 of 40  North America         Canada         Ontario   \n",
       "4               NaN         Europe          Italy  Emilia-Romagna   \n",
       "..              ...            ...            ...             ...   \n",
       "295             NaN  North America  United States     Connecticut   \n",
       "296     #9 of 2,496           Asia          China           Xi'an   \n",
       "297             NaN  North America  United States      Washington   \n",
       "298             NaN        Oceania      Australia        Canberra   \n",
       "299       #3 of 960  North America  United States         Alabama   \n",
       "\n",
       "    acceptance_rate publication           website             phone_no  \\\n",
       "0               15%      89,633         www.au.dk        +45 8942 1111   \n",
       "1               NaN      99,086       www.asu.edu           8552785080   \n",
       "2               57%      36,231        auburn.edu           3348444000   \n",
       "3               86%      97,754    www.anu.edu.au   +61 (0)2 6125 5111   \n",
       "4               11%      74,922       www.uab.cat        +34 935812222   \n",
       "..              ...         ...               ...                  ...   \n",
       "295              7%      96,097   www.xjtu.edu.cn    +86 (29) 266 8830   \n",
       "296             NaN     198,095      www.yale.edu           2034324771   \n",
       "297             56%      95,497  www.yonsei.ac.kr    +82 (2) 2123 2114   \n",
       "298             33%      41,257          yorku.ca    +1 (416) 736 5002   \n",
       "299             52%     176,136    www.zju.edu.cn  +86 (571) 8795 1020   \n",
       "\n",
       "                                               address  \n",
       "0    Nordre Ringgade 1\\n Aarhus, Central Denmark Re...  \n",
       "1    University Drive and Mill Avenue\\n Tempe, Ariz...  \n",
       "2    Samford Hall\\n Auburn, Alabama, 36849 \\nUnited...  \n",
       "3    Ellery Crescent, Acton\\n Canberra, Australian ...  \n",
       "4    Campus de Bellaterra, Edificio A\\n Cerdanyola ...  \n",
       "..                                                 ...  \n",
       "295  28 Xianning Road\\n Xi'an, Shaanxi, 710049 \\nChina  \n",
       "296  Woodbridge Hall\\n New Haven, Connecticut, 0652...  \n",
       "297  134 Sinchon-dong, Seodaemun-gu\\n Seoul, Seoul,...  \n",
       "298  4700 Keele Street\\n Toronto, Ontario, M3J 1P3 ...  \n",
       "299  38 Zheda Road, Xihu\\n Hangzhou, Zhejiang, 3100...  \n",
       "\n",
       "[300 rows x 12 columns]"
      ]
     },
     "execution_count": 20,
     "metadata": {},
     "output_type": "execute_result"
    }
   ],
   "source": [
    "import numpy as np\n",
    "import pandas as pd\n",
    "import seaborn as sns\n",
    "import warnings\n",
    "warnings.filterwarnings('ignore')\n",
    "from matplotlib import pyplot as plt\n",
    "from statsmodels.formula.api import ols\n",
    "#Importing data into a data frame\n",
    "data = pd.read_csv('Documents/college/Fall2022/320/Final data/archive/Top 300 universities of World.csv')\n",
    "data"
   ]
  },
  {
   "cell_type": "markdown",
   "metadata": {},
   "source": [
    "I have created a few new data frames for future data exploration. The data frames created are: with_ranks which contains only the rows that do not have NA in the world_ranking column, filtered which contains only the rows that do not have NA in the world_ranking or acceptance_rate columns, and country_rank which contains only the rows that do not have NA in the country_ranking and acceptance_rate columns."
   ]
  },
  {
   "cell_type": "code",
   "execution_count": 21,
   "metadata": {},
   "outputs": [],
   "source": [
    "#Filtering by columns with NA\n",
    "with_ranks = data[data['world_ranking'].notna()]\n",
    "filtered = with_ranks[with_ranks['acceptance_rate'].notna()]\n",
    "country_rank = data[data['country_ranking'].notna()]\n",
    "country_rank = country_rank[country_rank['acceptance_rate'].notna()]"
   ]
  },
  {
   "cell_type": "markdown",
   "metadata": {},
   "source": [
    "I now parse through the data to add new columns for ranks and acceptance by extracting just the integer value needed for the different data frames. First I am adding the integer value of world rankings into a column for the with_rank data frame."
   ]
  },
  {
   "cell_type": "code",
   "execution_count": 22,
   "metadata": {},
   "outputs": [
    {
     "data": {
      "text/html": [
       "<div>\n",
       "<style scoped>\n",
       "    .dataframe tbody tr th:only-of-type {\n",
       "        vertical-align: middle;\n",
       "    }\n",
       "\n",
       "    .dataframe tbody tr th {\n",
       "        vertical-align: top;\n",
       "    }\n",
       "\n",
       "    .dataframe thead th {\n",
       "        text-align: right;\n",
       "    }\n",
       "</style>\n",
       "<table border=\"1\" class=\"dataframe\">\n",
       "  <thead>\n",
       "    <tr style=\"text-align: right;\">\n",
       "      <th></th>\n",
       "      <th>name</th>\n",
       "      <th>world_ranking</th>\n",
       "      <th>region_ranking</th>\n",
       "      <th>country_ranking</th>\n",
       "      <th>region</th>\n",
       "      <th>country</th>\n",
       "      <th>city\\state</th>\n",
       "      <th>acceptance_rate</th>\n",
       "      <th>publication</th>\n",
       "      <th>website</th>\n",
       "      <th>phone_no</th>\n",
       "      <th>address</th>\n",
       "      <th>ranks</th>\n",
       "    </tr>\n",
       "  </thead>\n",
       "  <tbody>\n",
       "    <tr>\n",
       "      <th>0</th>\n",
       "      <td>Aarhus University</td>\n",
       "      <td>#150 of 14,131</td>\n",
       "      <td>#44 of 2,785</td>\n",
       "      <td>#2 of 27</td>\n",
       "      <td>Europe</td>\n",
       "      <td>Italy</td>\n",
       "      <td>Veneto</td>\n",
       "      <td>15%</td>\n",
       "      <td>89,633</td>\n",
       "      <td>www.au.dk</td>\n",
       "      <td>+45 8942 1111</td>\n",
       "      <td>Nordre Ringgade 1\\n Aarhus, Central Denmark Re...</td>\n",
       "      <td>150</td>\n",
       "    </tr>\n",
       "    <tr>\n",
       "      <th>1</th>\n",
       "      <td>Arizona State University - Tempe</td>\n",
       "      <td>#61 of 14,131</td>\n",
       "      <td>#48 of 2,597</td>\n",
       "      <td>#45 of 2,496</td>\n",
       "      <td>Europe</td>\n",
       "      <td>Spain</td>\n",
       "      <td>Valencia</td>\n",
       "      <td>NaN</td>\n",
       "      <td>99,086</td>\n",
       "      <td>www.asu.edu</td>\n",
       "      <td>8552785080</td>\n",
       "      <td>University Drive and Mill Avenue\\n Tempe, Ariz...</td>\n",
       "      <td>61</td>\n",
       "    </tr>\n",
       "    <tr>\n",
       "      <th>3</th>\n",
       "      <td>Australian National University</td>\n",
       "      <td>#88 of 14,131</td>\n",
       "      <td>#5 of 59</td>\n",
       "      <td>#5 of 40</td>\n",
       "      <td>North America</td>\n",
       "      <td>Canada</td>\n",
       "      <td>Ontario</td>\n",
       "      <td>86%</td>\n",
       "      <td>97,754</td>\n",
       "      <td>www.anu.edu.au</td>\n",
       "      <td>+61 (0)2 6125 5111</td>\n",
       "      <td>Ellery Crescent, Acton\\n Canberra, Australian ...</td>\n",
       "      <td>88</td>\n",
       "    </tr>\n",
       "    <tr>\n",
       "      <th>7</th>\n",
       "      <td>Boston University</td>\n",
       "      <td>#49 of 14,131</td>\n",
       "      <td>#42 of 2,597</td>\n",
       "      <td>#39 of 2,496</td>\n",
       "      <td>Europe</td>\n",
       "      <td>Greece</td>\n",
       "      <td>Athens</td>\n",
       "      <td>NaN</td>\n",
       "      <td>107,676</td>\n",
       "      <td>bu.edu</td>\n",
       "      <td>6173532000</td>\n",
       "      <td>One Silber Way\\n Boston, Massachusetts, 02215 ...</td>\n",
       "      <td>49</td>\n",
       "    </tr>\n",
       "    <tr>\n",
       "      <th>8</th>\n",
       "      <td>Brigham Young University - Provo</td>\n",
       "      <td>#193 of 14,131</td>\n",
       "      <td>#99 of 2,597</td>\n",
       "      <td>#88 of 2,496</td>\n",
       "      <td>Europe</td>\n",
       "      <td>United Kingdom</td>\n",
       "      <td>England</td>\n",
       "      <td>58%</td>\n",
       "      <td>36,150</td>\n",
       "      <td>www.byu.edu</td>\n",
       "      <td>8014224636</td>\n",
       "      <td>Main Campus\\n Provo, Utah, 84602 \\nUnited States</td>\n",
       "      <td>193</td>\n",
       "    </tr>\n",
       "    <tr>\n",
       "      <th>...</th>\n",
       "      <td>...</td>\n",
       "      <td>...</td>\n",
       "      <td>...</td>\n",
       "      <td>...</td>\n",
       "      <td>...</td>\n",
       "      <td>...</td>\n",
       "      <td>...</td>\n",
       "      <td>...</td>\n",
       "      <td>...</td>\n",
       "      <td>...</td>\n",
       "      <td>...</td>\n",
       "      <td>...</td>\n",
       "      <td>...</td>\n",
       "    </tr>\n",
       "    <tr>\n",
       "      <th>290</th>\n",
       "      <td>Washington University in St Louis</td>\n",
       "      <td>#44 of 14,131</td>\n",
       "      <td>#39 of 2,597</td>\n",
       "      <td>#37 of 2,496</td>\n",
       "      <td>North America</td>\n",
       "      <td>United States</td>\n",
       "      <td>Louisiana</td>\n",
       "      <td>NaN</td>\n",
       "      <td>147,171</td>\n",
       "      <td>wustl.edu</td>\n",
       "      <td>3149355000</td>\n",
       "      <td>One Brookings Drive\\n Saint Louis, Missouri, 6...</td>\n",
       "      <td>44</td>\n",
       "    </tr>\n",
       "    <tr>\n",
       "      <th>291</th>\n",
       "      <td>Wayne State University</td>\n",
       "      <td>#194 of 14,131</td>\n",
       "      <td>#100 of 2,597</td>\n",
       "      <td>#89 of 2,496</td>\n",
       "      <td>Europe</td>\n",
       "      <td>Spain</td>\n",
       "      <td>Barcelona</td>\n",
       "      <td>43%</td>\n",
       "      <td>72,575</td>\n",
       "      <td>wayne.edu</td>\n",
       "      <td>3135772424</td>\n",
       "      <td>656 West Kirby Street\\n Detroit, Michigan, 482...</td>\n",
       "      <td>194</td>\n",
       "    </tr>\n",
       "    <tr>\n",
       "      <th>293</th>\n",
       "      <td>Western University</td>\n",
       "      <td>#134 of 14,131</td>\n",
       "      <td>#79 of 2,597</td>\n",
       "      <td>#9 of 101</td>\n",
       "      <td>Europe</td>\n",
       "      <td>Netherlands</td>\n",
       "      <td>Amsterdam</td>\n",
       "      <td>20%</td>\n",
       "      <td>87,102</td>\n",
       "      <td>uwo.ca</td>\n",
       "      <td>+1 (519) 661 2111</td>\n",
       "      <td>1151 Richmond Street\\n London, Ontario, N6A 3K...</td>\n",
       "      <td>134</td>\n",
       "    </tr>\n",
       "    <tr>\n",
       "      <th>296</th>\n",
       "      <td>Yale University</td>\n",
       "      <td>#11 of 14,131</td>\n",
       "      <td>#9 of 2,597</td>\n",
       "      <td>#9 of 2,496</td>\n",
       "      <td>Asia</td>\n",
       "      <td>China</td>\n",
       "      <td>Xi'an</td>\n",
       "      <td>NaN</td>\n",
       "      <td>198,095</td>\n",
       "      <td>www.yale.edu</td>\n",
       "      <td>2034324771</td>\n",
       "      <td>Woodbridge Hall\\n New Haven, Connecticut, 0652...</td>\n",
       "      <td>11</td>\n",
       "    </tr>\n",
       "    <tr>\n",
       "      <th>299</th>\n",
       "      <td>Zhejiang University</td>\n",
       "      <td>#109 of 14,131</td>\n",
       "      <td>#7 of 5,830</td>\n",
       "      <td>#3 of 960</td>\n",
       "      <td>North America</td>\n",
       "      <td>United States</td>\n",
       "      <td>Alabama</td>\n",
       "      <td>52%</td>\n",
       "      <td>176,136</td>\n",
       "      <td>www.zju.edu.cn</td>\n",
       "      <td>+86 (571) 8795 1020</td>\n",
       "      <td>38 Zheda Road, Xihu\\n Hangzhou, Zhejiang, 3100...</td>\n",
       "      <td>109</td>\n",
       "    </tr>\n",
       "  </tbody>\n",
       "</table>\n",
       "<p>199 rows × 13 columns</p>\n",
       "</div>"
      ],
      "text/plain": [
       "                                  name   world_ranking region_ranking  \\\n",
       "0                    Aarhus University  #150 of 14,131   #44 of 2,785   \n",
       "1     Arizona State University - Tempe   #61 of 14,131   #48 of 2,597   \n",
       "3       Australian National University   #88 of 14,131       #5 of 59   \n",
       "7                    Boston University   #49 of 14,131   #42 of 2,597   \n",
       "8     Brigham Young University - Provo  #193 of 14,131   #99 of 2,597   \n",
       "..                                 ...             ...            ...   \n",
       "290  Washington University in St Louis   #44 of 14,131   #39 of 2,597   \n",
       "291             Wayne State University  #194 of 14,131  #100 of 2,597   \n",
       "293                 Western University  #134 of 14,131   #79 of 2,597   \n",
       "296                    Yale University   #11 of 14,131    #9 of 2,597   \n",
       "299                Zhejiang University  #109 of 14,131    #7 of 5,830   \n",
       "\n",
       "    country_ranking         region         country city\\state acceptance_rate  \\\n",
       "0          #2 of 27         Europe           Italy     Veneto             15%   \n",
       "1      #45 of 2,496         Europe           Spain   Valencia             NaN   \n",
       "3          #5 of 40  North America          Canada    Ontario             86%   \n",
       "7      #39 of 2,496         Europe          Greece     Athens             NaN   \n",
       "8      #88 of 2,496         Europe  United Kingdom    England             58%   \n",
       "..              ...            ...             ...        ...             ...   \n",
       "290    #37 of 2,496  North America   United States  Louisiana             NaN   \n",
       "291    #89 of 2,496         Europe           Spain  Barcelona             43%   \n",
       "293       #9 of 101         Europe     Netherlands  Amsterdam             20%   \n",
       "296     #9 of 2,496           Asia           China      Xi'an             NaN   \n",
       "299       #3 of 960  North America   United States    Alabama             52%   \n",
       "\n",
       "    publication         website             phone_no  \\\n",
       "0        89,633       www.au.dk        +45 8942 1111   \n",
       "1        99,086     www.asu.edu           8552785080   \n",
       "3        97,754  www.anu.edu.au   +61 (0)2 6125 5111   \n",
       "7       107,676          bu.edu           6173532000   \n",
       "8        36,150     www.byu.edu           8014224636   \n",
       "..          ...             ...                  ...   \n",
       "290     147,171       wustl.edu           3149355000   \n",
       "291      72,575       wayne.edu           3135772424   \n",
       "293      87,102          uwo.ca    +1 (519) 661 2111   \n",
       "296     198,095    www.yale.edu           2034324771   \n",
       "299     176,136  www.zju.edu.cn  +86 (571) 8795 1020   \n",
       "\n",
       "                                               address  ranks  \n",
       "0    Nordre Ringgade 1\\n Aarhus, Central Denmark Re...    150  \n",
       "1    University Drive and Mill Avenue\\n Tempe, Ariz...     61  \n",
       "3    Ellery Crescent, Acton\\n Canberra, Australian ...     88  \n",
       "7    One Silber Way\\n Boston, Massachusetts, 02215 ...     49  \n",
       "8     Main Campus\\n Provo, Utah, 84602 \\nUnited States    193  \n",
       "..                                                 ...    ...  \n",
       "290  One Brookings Drive\\n Saint Louis, Missouri, 6...     44  \n",
       "291  656 West Kirby Street\\n Detroit, Michigan, 482...    194  \n",
       "293  1151 Richmond Street\\n London, Ontario, N6A 3K...    134  \n",
       "296  Woodbridge Hall\\n New Haven, Connecticut, 0652...     11  \n",
       "299  38 Zheda Road, Xihu\\n Hangzhou, Zhejiang, 3100...    109  \n",
       "\n",
       "[199 rows x 13 columns]"
      ]
     },
     "execution_count": 22,
     "metadata": {},
     "output_type": "execute_result"
    }
   ],
   "source": [
    "ranks = []\n",
    "split = []\n",
    "for index, x in with_ranks.iterrows():\n",
    "  var = x[\"world_ranking\"]\n",
    "  #Splitting to seperate from the unecessary values\n",
    "  split = var.split()\n",
    "  #The first value from the split (the rank) is saved to a temporary variable \n",
    "  temp = split[0]\n",
    "  #Value is appended to the ranks array as an integer\n",
    "  ranks.append(int(temp[1:]))\n",
    "#New column is created with the world ranks\n",
    "with_ranks['ranks'] = ranks\n",
    "with_ranks"
   ]
  },
  {
   "cell_type": "markdown",
   "metadata": {},
   "source": [
    "I am adding the integer value of country rankings and acceptance rates into columns for the country_rank data frame."
   ]
  },
  {
   "cell_type": "code",
   "execution_count": 23,
   "metadata": {},
   "outputs": [],
   "source": [
    "ranks = []\n",
    "split = []\n",
    "for index, x in country_rank.iterrows():\n",
    "  var = x[\"country_ranking\"]\n",
    "  #Splitting to seperate from the unecessary values\n",
    "  split = var.split()\n",
    "  #The first value from the split (the rank) is saved to a temporary variable \n",
    "  temp = split[0]\n",
    "  #Value is appended to the ranks array as an integer\n",
    "  ranks.append(int(temp[1:]))\n",
    "#New column is created with the ranks\n",
    "country_rank['country_ranks'] = ranks\n",
    "acceptance = []\n",
    "for index, x in country_rank.iterrows():\n",
    "  var = x[\"acceptance_rate\"]\n",
    "  #Cutting out the percentage sign and coverting the value to an int\n",
    "  var = int(var[:-1])\n",
    "  acceptance.append(var)\n",
    "#Creating a new column with integer acceptance rates\n",
    "country_rank[\"acceptance\"] = acceptance\n",
    "\n",
    "#Setting the data set to only contain data from the United States\n",
    "country_rank = country_rank[country_rank['country'] == 'United States']"
   ]
  },
  {
   "cell_type": "code",
   "execution_count": 24,
   "metadata": {},
   "outputs": [],
   "source": [
    "acceptance = []\n",
    "ranks = []\n",
    "for index, x in filtered.iterrows():\n",
    "  var = x[\"acceptance_rate\"]\n",
    "  #Cutting out the percentage sign and coverting the value to an int\n",
    "  var = int(var[:-1])\n",
    "  acceptance.append(var)\n",
    "for index, x in filtered.iterrows():\n",
    "  var = x[\"world_ranking\"]\n",
    "  #Splitting to seperate from the unecessary values\n",
    "  split = var.split()\n",
    "  #The first value from the split (the rank) is saved to a temporary variable \n",
    "  temp = split[0]\n",
    "  #Value is appended to the ranks array as an integer\n",
    "  ranks.append(int(temp[1:]))\n",
    "#Creating a new columns with integer acceptance rates and integer world ranks\n",
    "filtered[\"acceptance\"] = acceptance\n",
    "filtered[\"ranks\"] = ranks"
   ]
  },
  {
   "cell_type": "markdown",
   "metadata": {},
   "source": [
    "Now let's explore this data set. Below we have a pie chart to observe the percentage frequency of the different regions in the top 300 universities in the world. Here we see North America with the highest frequency followed by Europe, Asia, Oceania, Latin America, and Africa."
   ]
  },
  {
   "cell_type": "code",
   "execution_count": 25,
   "metadata": {},
   "outputs": [
    {
     "data": {
      "image/png": "[encoded data removed]",
      "text/plain": [
       "<Figure size 720x576 with 1 Axes>"
      ]
     },
     "metadata": {},
     "output_type": "display_data"
    }
   ],
   "source": [
    "#Determining figure size and title\n",
    "plt.figure(figsize=(10, 8))\n",
    "plt.title(\"Percentage frequency of regions of Top 300 Universities Globally\")\n",
    "#Counting the frequency of each region at displaying it in a pie chart\n",
    "s = data['region'].value_counts()#.plot(kind='pie')\n",
    "plt.pie(s,labels = s.index, autopct= '%1.1f%%')\n",
    "plt.show()"
   ]
  },
  {
   "cell_type": "markdown",
   "metadata": {},
   "source": [
    "Below are the frequencies that we can use to compare against the pie chart visual."
   ]
  },
  {
   "cell_type": "code",
   "execution_count": 26,
   "metadata": {},
   "outputs": [
    {
     "name": "stdout",
     "output_type": "stream",
     "text": [
      "North America    132\n",
      "Europe           113\n",
      "Asia              34\n",
      "Oceania           12\n",
      "Latin America      8\n",
      "Africa             1\n",
      "Name: region, dtype: int64\n"
     ]
    }
   ],
   "source": [
    "#Displaying the frequency to compare against the pie chart \n",
    "print(data['region'].value_counts())"
   ]
  },
  {
   "cell_type": "markdown",
   "metadata": {},
   "source": [
    "Next, let's explore which region has the highest average ranking. Below we have a bar graph to demonstrate this. The highest average is in Asia, followed by Europe, Africa, North America, Oceania, and Latin America."
   ]
  },
  {
   "cell_type": "code",
   "execution_count": 27,
   "metadata": {},
   "outputs": [
    {
     "data": {
      "image/png": "[encoded data removed]",
      "text/plain": [
       "<Figure size 432x288 with 1 Axes>"
      ]
     },
     "metadata": {
      "needs_background": "light"
     },
     "output_type": "display_data"
    }
   ],
   "source": [
    "#Setting counter variables for each of the regions\n",
    "North_America = 0\n",
    "Europe = 0\n",
    "Asia = 0\n",
    "Oceania = 0\n",
    "Latin_America = 0\n",
    "Africa = 0\n",
    "for index, x in with_ranks.iterrows():\n",
    "  #Adding on the ranking for the region to the respective counter\n",
    "  if x['region'] == 'North America':\n",
    "    North_America += int(x['ranks'])\n",
    "  elif x['region'] == 'Europe':\n",
    "    Europe += int(x['ranks'])\n",
    "  elif x['region'] == 'Asia':\n",
    "    Asia += int(x['ranks'])\n",
    "  elif x['region'] == 'Oceania':\n",
    "    Oceania += int(x['ranks'])\n",
    "  elif x['region'] == 'Latin America':\n",
    "    Latin_America += int(x['ranks'])\n",
    "  else:\n",
    "    Africa += int(x['ranks'])\n",
    "\n",
    "#Creating a bar graph of the averages\n",
    "fig = plt.figure()\n",
    "ax = fig.add_axes([0,0,1,1])\n",
    "#Creating a variable that includes all of the regions\n",
    "regions = ['North America', 'Europe', 'Asia', 'Oceania', 'Latin America', 'Africa']\n",
    "#Finding the averages of all of these regions, using the frequency found above\n",
    "averages = [North_America/132 ,Europe/113,Asia/34,Oceania/12,Latin_America/8, Africa]\n",
    "#Setting the values and titles of the bar graph \n",
    "plt.bar(regions, averages, color ='green',width = .8)\n",
    "plt.xlabel(\"Regions\")\n",
    "plt.ylabel(\"Average Ranking\")\n",
    "plt.title(\"Average Ranking per Region of Top 300 Universities Globally\")\n",
    "plt.show()"
   ]
  },
  {
   "cell_type": "markdown",
   "metadata": {},
   "source": [
    "In the United States, often times there is a belief that that unviersities with lower acceptance rate are more prestigious and are considered a better university. I wanted to test this as my hypothesis. I will be testing if acceptance rate and rankings have an direct correlation across different regions. Below I am beginning by futher parsing through my data to add acceptance rate and world ranking as a column in integer form."
   ]
  },
  {
   "cell_type": "markdown",
   "metadata": {},
   "source": [
    "Below we have a scatter plot of the univeristy ranks over acceptance rate for the top 300 universities in the world. From the graph we can see a negative regression line, which would reject our hypothesis of the direct relationship between acceptance rates and university ranks."
   ]
  },
  {
   "cell_type": "code",
   "execution_count": 28,
   "metadata": {},
   "outputs": [
    {
     "data": {
      "image/png": "[encoded data removed]",
      "text/plain": [
       "<Figure size 720x432 with 1 Axes>"
      ]
     },
     "metadata": {
      "needs_background": "light"
     },
     "output_type": "display_data"
    }
   ],
   "source": [
    "#Creating a scatter plot using seaborn\n",
    "plt.figure(figsize=(10, 6))\n",
    "#Setting the data as the acceptance and ranks columns from the 'filtered' data frame\n",
    "sns.regplot(\"acceptance\", \"ranks\", data=filtered)\n",
    "plt.title(\"University Ranks and Acceptance Rates using Top 300 Universities Globally\")\n",
    "plt.show()"
   ]
  },
  {
   "cell_type": "markdown",
   "metadata": {},
   "source": [
    "The linear regression line for this graph has a slope of -0.148176 as we see below. This confirms the inverse correlation seen in the graph above."
   ]
  },
  {
   "cell_type": "code",
   "execution_count": 29,
   "metadata": {},
   "outputs": [
    {
     "name": "stdout",
     "output_type": "stream",
     "text": [
      "Intercept     144.634193\n",
      "acceptance     -0.148176\n",
      "dtype: float64\n"
     ]
    }
   ],
   "source": [
    "#Creating a formula from the ranks and acceptance columns of the filtered data frame\n",
    "#to get the intercept and slope values\n",
    "formula = ols(formula = \"ranks ~ acceptance\", data = filtered).fit()\n",
    "print(formula.params)"
   ]
  },
  {
   "cell_type": "markdown",
   "metadata": {},
   "source": [
    "I will now be testing this per region for the regions represented after dropping acceptance rates and world ranks that were NA. I created arrays with ranks and acceptance for North America, Europe, Asia, and Oceania and then created four seperate data frames for each region. "
   ]
  },
  {
   "cell_type": "code",
   "execution_count": 30,
   "metadata": {},
   "outputs": [],
   "source": [
    "#Creating arrays for the ranks and acceptances for each of the regions by filtering from the 'filtered' data frame by region value\n",
    "NA_Rank = np.array(filtered.loc[filtered['region'] == 'North America']['ranks'].to_numpy())\n",
    "NA_Acceptance = np.array(filtered.loc[filtered['region'] == 'North America']['acceptance'].to_numpy())\n",
    "\n",
    "EU_Rank = np.array(filtered.loc[filtered['region'] == 'Europe']['ranks'].to_numpy())\n",
    "EU_Acceptance = np.array(filtered.loc[filtered['region'] == 'Europe']['acceptance'].to_numpy())\n",
    "\n",
    "AS_Rank = np.array(filtered.loc[filtered['region'] == 'Asia']['ranks'].to_numpy())\n",
    "AS_Acceptance = np.array(filtered.loc[filtered['region'] == 'Asia']['acceptance'].to_numpy())\n",
    "\n",
    "OC_Rank = np.array(filtered.loc[filtered['region'] == 'Oceania']['ranks'].to_numpy())\n",
    "OC_Acceptance = np.array(filtered.loc[filtered['region'] == 'Oceania']['acceptance'].to_numpy())\n",
    "\n",
    "#Creating a new data frame for each region and setting the columns equal to the arrays created above\n",
    "NA = pd.DataFrame()\n",
    "NA[\"Rank\"] = NA_Rank\n",
    "NA[\"Acceptance\"] = NA_Acceptance\n",
    "EU = pd.DataFrame()\n",
    "EU[\"Rank\"] = EU_Rank\n",
    "EU[\"Acceptance\"] = EU_Acceptance\n",
    "AS = pd.DataFrame()\n",
    "AS[\"Rank\"] = AS_Rank\n",
    "AS[\"Acceptance\"] = AS_Acceptance\n",
    "OC = pd.DataFrame()\n",
    "OC[\"Rank\"] = OC_Rank\n",
    "OC[\"Acceptance\"] = OC_Acceptance"
   ]
  },
  {
   "cell_type": "markdown",
   "metadata": {},
   "source": [
    "Next, with the four data frames I have created 4 seperate scatter plots with regression lines to observe the correlation beteween rank and acceptance per region. For North America and Europe, we see a negative correlation, but for Asia and Oceania we see a positive correlation. Both North America and Europe seem to reject our hypothesis but Asia and Oceania support it."
   ]
  },
  {
   "cell_type": "code",
   "execution_count": 31,
   "metadata": {},
   "outputs": [
    {
     "data": {
      "image/png": "[encoded data removed]",
      "text/plain": [
       "<Figure size 576x288 with 1 Axes>"
      ]
     },
     "metadata": {
      "needs_background": "light"
     },
     "output_type": "display_data"
    },
    {
     "data": {
      "image/png": "[encoded data removed]",
      "text/plain": [
       "<Figure size 576x288 with 1 Axes>"
      ]
     },
     "metadata": {
      "needs_background": "light"
     },
     "output_type": "display_data"
    },
    {
     "data": {
      "image/png": "[encoded data removed]",
      "text/plain": [
       "<Figure size 576x288 with 1 Axes>"
      ]
     },
     "metadata": {
      "needs_background": "light"
     },
     "output_type": "display_data"
    },
    {
     "data": {
      "image/png": "[encoded data removed]",
      "text/plain": [
       "<Figure size 576x288 with 1 Axes>"
      ]
     },
     "metadata": {
      "needs_background": "light"
     },
     "output_type": "display_data"
    }
   ],
   "source": [
    "# Creating scatter plots for each of the regions by extracting data from the appropriate data frame created above\n",
    "plt.figure(figsize=(8, 4))\n",
    "sns.regplot(\"Acceptance\", \"Rank\", NA)\n",
    "plt.title(\"North American Universities Ranks over Acceptance Rates using Top 300 Universities Globally\")\n",
    "plt.show()\n",
    "\n",
    "plt.figure(figsize=(8, 4))\n",
    "sns.regplot(\"Acceptance\", \"Rank\", EU)\n",
    "plt.title(\"European Universities Ranks over Acceptance Rates using Top 300 Universities Globally\")\n",
    "plt.show()\n",
    "\n",
    "plt.figure(figsize=(8, 4))\n",
    "sns.regplot(\"Acceptance\", \"Rank\", AS)\n",
    "plt.title(\"Asian Universities Ranks over Acceptance Rates using Top 300 Universities Globally\")\n",
    "plt.show()\n",
    "\n",
    "plt.figure(figsize=(8, 4))\n",
    "sns.regplot(\"Acceptance\", \"Rank\", OC)\n",
    "plt.title(\"Oceanian Universities Ranks over Acceptance Rates using Top 300 Universities Globally\")\n",
    "plt.show()"
   ]
  },
  {
   "cell_type": "markdown",
   "metadata": {},
   "source": [
    "Below I found the exact slopes for the regression lines of my regional graphs testing the correlation between rank and acceptance rates of universities. North America is -0.126175, Europe is -0.087535, Asia is 0.016058, and Oceania is .093283, which confirms the trends we saw in the graphs above."
   ]
  },
  {
   "cell_type": "code",
   "execution_count": 32,
   "metadata": {},
   "outputs": [
    {
     "name": "stdout",
     "output_type": "stream",
     "text": [
      "Intercept    59.031571\n",
      "Rank         -0.126175\n",
      "dtype: float64\n"
     ]
    }
   ],
   "source": [
    "#The following blocks are used to create a formula from the ranks and acceptance columns of the region's data frame\n",
    "#to get the intercept and slope values\n",
    "formula = ols(formula = \"Acceptance ~ Rank\", data = NA).fit()\n",
    "print(formula.params)"
   ]
  },
  {
   "cell_type": "code",
   "execution_count": 33,
   "metadata": {},
   "outputs": [
    {
     "name": "stdout",
     "output_type": "stream",
     "text": [
      "Intercept    59.102708\n",
      "Rank         -0.087535\n",
      "dtype: float64\n"
     ]
    }
   ],
   "source": [
    "formula = ols(formula = \"Acceptance ~ Rank\", data = EU).fit()\n",
    "print(formula.params)"
   ]
  },
  {
   "cell_type": "code",
   "execution_count": 34,
   "metadata": {},
   "outputs": [
    {
     "name": "stdout",
     "output_type": "stream",
     "text": [
      "Intercept    39.855157\n",
      "Rank          0.016058\n",
      "dtype: float64\n"
     ]
    }
   ],
   "source": [
    "formula = ols(formula = \"Acceptance ~ Rank\", data = AS).fit()\n",
    "print(formula.params)"
   ]
  },
  {
   "cell_type": "code",
   "execution_count": 35,
   "metadata": {},
   "outputs": [
    {
     "name": "stdout",
     "output_type": "stream",
     "text": [
      "Intercept    50.696943\n",
      "Rank          0.093283\n",
      "dtype: float64\n"
     ]
    }
   ],
   "source": [
    "formula = ols(formula = \"Acceptance ~ Rank\", data = OC).fit()\n",
    "print(formula.params)"
   ]
  },
  {
   "cell_type": "markdown",
   "metadata": {},
   "source": [
    "Since this hypothesis stemmed from trends I noticed in the perceptions of prestige in United States universities, I wanted to look at the correlation between acceptance rates and country ranking within the United States specifically. Since we saw an inverse correlation when looking at North America, I hypothesize that the United States will also portray an inverse correlation."
   ]
  },
  {
   "cell_type": "markdown",
   "metadata": {},
   "source": [
    "Below we have a scatter plot and regression line to display the correlation between country rank and acceptance in the United States. The line appears to show a slight inverse correlation."
   ]
  },
  {
   "cell_type": "code",
   "execution_count": 36,
   "metadata": {},
   "outputs": [
    {
     "data": {
      "image/png": "[encoded data removed]",
      "text/plain": [
       "<Figure size 576x288 with 1 Axes>"
      ]
     },
     "metadata": {
      "needs_background": "light"
     },
     "output_type": "display_data"
    }
   ],
   "source": [
    "# Scatter plot figure size set and data set to the acceptance and country_ranks columns in the data frame country_rank\n",
    "plt.figure(figsize=(8, 4))\n",
    "sns.regplot(\"acceptance\", \"country_ranks\", country_rank)\n",
    "plt.title(\"United States Universities Ranks over Acceptance Rates using Top 300 Universities Globally\")\n",
    "plt.show()"
   ]
  },
  {
   "cell_type": "markdown",
   "metadata": {},
   "source": [
    "With the slope of the regression line, we can see that the university ranks and acceptance rates actually had an inverse relationship, having a slope of -0.014188"
   ]
  },
  {
   "cell_type": "code",
   "execution_count": 37,
   "metadata": {},
   "outputs": [
    {
     "name": "stdout",
     "output_type": "stream",
     "text": [
      "Intercept     27.016348\n",
      "acceptance    -0.014188\n",
      "dtype: float64\n"
     ]
    }
   ],
   "source": [
    "#Create a formula from the country_rank and acceptance columns of the country_rank data frame\n",
    "#to get the intercept and slope values\n",
    "formula = ols(formula = \"country_ranks ~ acceptance\", data = country_rank).fit()\n",
    "print(formula.params)"
   ]
  },
  {
   "cell_type": "markdown",
   "metadata": {},
   "source": [
    "From this data exploration and analysis, it appears that there is no significant relationship between university ranks and acceptance rates and seems to vary by region. This could also vary with the criteria used to base the ranking on. For example, if the critieria were based on the number of output of something (for example incorporating the quanitiy of published papers), a school with a higher acceptance rate and larger student body may thrive. However, if we were basing the rank on some indicator of average performance of students after university, universities with a lower acceptance rate and more selective admissions process may thrive. Due to the subjectivity of the success of a university, from our data exploration it seems that using acceptance rates as an indicator of the success and quality of university is a flawed mentality that many hold."
   ]
  }
 ],
 "metadata": {
  "kernelspec": {
   "display_name": "Python 3",
   "language": "python",
   "name": "python3"
  },
  "language_info": {
   "codemirror_mode": {
    "name": "ipython",
    "version": 3
   },
   "file_extension": ".py",
   "mimetype": "text/x-python",
   "name": "python",
   "nbconvert_exporter": "python",
   "pygments_lexer": "ipython3",
   "version": "3.8.5"
  }
 },
 "nbformat": 4,
 "nbformat_minor": 4
}
